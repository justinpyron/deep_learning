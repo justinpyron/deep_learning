{
 "cells": [
  {
   "cell_type": "code",
   "execution_count": 1,
   "metadata": {},
   "outputs": [],
   "source": [
    "import numpy as np\n",
    "import pandas as pd\n",
    "import time\n",
    "import matplotlib.pyplot as plt\n",
    "from tqdm import tqdm\n",
    "\n",
    "import torch\n",
    "from torchvision import transforms\n",
    "from torchvision.datasets import MNIST\n",
    "from torch.utils.data import Subset, Dataset, DataLoader\n",
    "import torch.nn.functional as F\n",
    "from torch import nn\n",
    "import torch.optim as optim\n"
   ]
  },
  {
   "cell_type": "markdown",
   "metadata": {},
   "source": [
    "# Load MNIST data"
   ]
  },
  {
   "cell_type": "code",
   "execution_count": 2,
   "metadata": {},
   "outputs": [],
   "source": [
    "root = '/home/justin_pyron/pyron/python_code/datasets/'\n",
    "train_set = MNIST(root, train=True, transform=transforms.ToTensor(), download=True)\n",
    "test_set = MNIST(root, train=False, transform=transforms.ToTensor(), download=True)"
   ]
  },
  {
   "cell_type": "markdown",
   "metadata": {},
   "source": [
    "# Make Autoencoder class\n",
    "\n",
    "Note: image input shape: (1,28,28)"
   ]
  },
  {
   "cell_type": "code",
   "execution_count": 3,
   "metadata": {},
   "outputs": [],
   "source": [
    "class Autoencoder(nn.Module):\n",
    "    \n",
    "    def __init__(self, embedding_dim):\n",
    "        '''\n",
    "        Arguments\n",
    "        ---------\n",
    "        embedding_dim : int\n",
    "            The dimension of the embedding space\n",
    "        '''\n",
    "        super().__init__()\n",
    "        \n",
    "        # Encoder\n",
    "        self.E_bn1 = nn.BatchNorm2d(num_features=1)\n",
    "        self.E_conv1 = nn.Conv2d(in_channels=1, out_channels=20, kernel_size=3, stride=2, padding=1)\n",
    "        self.E_conv2 = nn.Conv2d(in_channels=20, out_channels=40, kernel_size=3, stride=2, padding=1)\n",
    "        self.E_bn2 = nn.BatchNorm2d(num_features=40)\n",
    "        self.E_conv3 = nn.Conv2d(in_channels=40, out_channels=80, kernel_size=3, stride=2, padding=0)\n",
    "        self.E_conv4 = nn.Conv2d(in_channels=80, out_channels=160, kernel_size=3, stride=1, padding=0)\n",
    "        self.E_linear = nn.Linear(in_features=160, out_features=embedding_dim)\n",
    "        \n",
    "        # Decoder\n",
    "        self.D_linear = nn.Linear(in_features=embedding_dim, out_features=160)\n",
    "        self.D_bn1 = nn.BatchNorm2d(num_features=160)\n",
    "        self.D_conv4 = nn.ConvTranspose2d(in_channels=160, out_channels=80, kernel_size=3, stride=1, padding=0)\n",
    "        self.D_conv3 = nn.ConvTranspose2d(in_channels=80, out_channels=40, kernel_size=3, stride=2, padding=0)\n",
    "        self.D_bn2 = nn.BatchNorm2d(num_features=40)\n",
    "        self.D_conv2 = nn.ConvTranspose2d(in_channels=40, out_channels=20, kernel_size=3, stride=2, padding=1, output_padding=1)\n",
    "        self.D_conv1 = nn.ConvTranspose2d(in_channels=20, out_channels=1, kernel_size=3, stride=2, padding=1, output_padding=1)\n",
    "        \n",
    "            \n",
    "    def encode(self, x):\n",
    "        '''\n",
    "        Map input image to an embedding vector\n",
    "        \n",
    "        The image spatial dimension is sequentially\n",
    "        reduced according to: 28 > 14 > 7 > 4 > 1\n",
    "        '''\n",
    "        x = self.E_bn1(x)\n",
    "        x = F.relu(self.E_conv1(x))\n",
    "        x = F.relu(self.E_conv2(x))\n",
    "        x = self.E_bn2(x)\n",
    "        x = F.relu(self.E_conv3(x))\n",
    "        x = F.relu(self.E_conv4(x))\n",
    "        \n",
    "        x = x.squeeze(dim=3).squeeze(dim=2)\n",
    "        x = self.E_linear(x)\n",
    "        \n",
    "        return x\n",
    "    \n",
    "    \n",
    "    def decode(self, x):\n",
    "        '''\n",
    "        Map embedding vector to a reconstructed image\n",
    "        '''\n",
    "        \n",
    "        x = self.D_linear(x)\n",
    "        x = x.unsqueeze(2).unsqueeze(3)\n",
    "        \n",
    "        x = self.D_bn1(x)\n",
    "        x = F.relu(self.D_conv4(x))\n",
    "        x = F.relu(self.D_conv3(x))\n",
    "        x = self.D_bn2(x)\n",
    "        x = F.relu(self.D_conv2(x))\n",
    "        x = self.D_conv1(x)\n",
    "        \n",
    "        x = torch.sigmoid(x)\n",
    "        \n",
    "        return x\n",
    "    \n",
    "    \n",
    "    def forward(self, x):\n",
    "        code = self.encode(x)\n",
    "        x_reconstructed = self.decode(code)\n",
    "        \n",
    "        return x_reconstructed, code \n",
    "    "
   ]
  },
  {
   "cell_type": "markdown",
   "metadata": {},
   "source": [
    "# Train autoencoder\n"
   ]
  },
  {
   "cell_type": "code",
   "execution_count": 4,
   "metadata": {},
   "outputs": [],
   "source": [
    "batch_size = 250\n",
    "loader_train = DataLoader(train_set, batch_size, shuffle=True)\n",
    "loader_test = DataLoader(test_set, batch_size, shuffle=True)\n"
   ]
  },
  {
   "cell_type": "code",
   "execution_count": 5,
   "metadata": {},
   "outputs": [],
   "source": [
    "lr = 4e-5\n",
    "weight_decay = 1e-4\n",
    "code_penalty = 1e-4\n",
    "\n",
    "model = Autoencoder(embedding_dim=10)\n",
    "optimizer = torch.optim.Adam(model.parameters(), lr=lr, weight_decay=weight_decay)"
   ]
  },
  {
   "cell_type": "code",
   "execution_count": 6,
   "metadata": {},
   "outputs": [],
   "source": [
    "loss_dict = {'train': list(), 'test': list()}\n"
   ]
  },
  {
   "cell_type": "code",
   "execution_count": 18,
   "metadata": {},
   "outputs": [
    {
     "name": "stderr",
     "output_type": "stream",
     "text": [
      "100%|██████████| 5/5 [03:15<00:00, 39.14s/it]"
     ]
    },
    {
     "name": "stdout",
     "output_type": "stream",
     "text": [
      "Complete. Time elapsed (min): 3.3\n"
     ]
    },
    {
     "name": "stderr",
     "output_type": "stream",
     "text": [
      "\n"
     ]
    }
   ],
   "source": [
    "n_epoch = 5\n",
    "\n",
    "start = time.time()\n",
    "for epoch in tqdm(range(n_epoch)):\n",
    "\n",
    "    # Train set\n",
    "    # =========\n",
    "    L = list()\n",
    "    for (x,y) in loader_train:\n",
    "        model.train()\n",
    "        out, code = model(x)\n",
    "        loss = F.mse_loss(out, x) + code_penalty*torch.norm(code, p=2, dim=1).mean()\n",
    "        loss.backward()\n",
    "        optimizer.step()\n",
    "        optimizer.zero_grad()\n",
    "        L.append(loss.item())\n",
    "    loss_dict['train'].append(L)\n",
    "\n",
    "    # Test set\n",
    "    # =========\n",
    "    L = list()\n",
    "    for (x,y) in loader_test:\n",
    "        with torch.no_grad():\n",
    "            model.eval()\n",
    "            out, code = model(x)\n",
    "            loss = F.mse_loss(out, x) + code_penalty*torch.norm(code, p=2, dim=1).mean()\n",
    "            L.append(loss.item())\n",
    "    loss_dict['test'].append(L)\n",
    "\n",
    "print('Complete. Time elapsed (min): {:.1f}'.format((time.time() - start)/60))"
   ]
  },
  {
   "cell_type": "code",
   "execution_count": 19,
   "metadata": {},
   "outputs": [
    {
     "data": {
      "image/png": "[encoded data removed]",
      "text/plain": [
       "<Figure size 1080x432 with 1 Axes>"
      ]
     },
     "metadata": {
      "needs_background": "light"
     },
     "output_type": "display_data"
    }
   ],
   "source": [
    "plt.figure(figsize=(15,6))\n",
    "plt.plot(np.array(loss_dict['train']).flatten())\n",
    "plt.xlabel('Batch number')\n",
    "plt.title('Train loss')\n",
    "plt.show()\n"
   ]
  },
  {
   "cell_type": "code",
   "execution_count": 20,
   "metadata": {},
   "outputs": [
    {
     "data": {
      "image/png": "[encoded data removed]",
      "text/plain": [
       "<Figure size 1080x432 with 1 Axes>"
      ]
     },
     "metadata": {
      "needs_background": "light"
     },
     "output_type": "display_data"
    }
   ],
   "source": [
    "plt.figure(figsize=(15,6))\n",
    "plt.plot([np.array(x).mean() for x in loss_dict['train']], label='train')\n",
    "plt.plot([np.array(x).mean() for x in loss_dict['test']], label='test')\n",
    "plt.xlabel('Epoch')\n",
    "plt.legend()\n",
    "plt.title('Average loss per epoch')\n",
    "plt.show()\n"
   ]
  },
  {
   "cell_type": "code",
   "execution_count": null,
   "metadata": {},
   "outputs": [],
   "source": []
  },
  {
   "cell_type": "code",
   "execution_count": 35,
   "metadata": {},
   "outputs": [
    {
     "data": {
      "image/png": "[encoded data removed]",
      "text/plain": [
       "<Figure size 432x288 with 1 Axes>"
      ]
     },
     "metadata": {
      "needs_background": "light"
     },
     "output_type": "display_data"
    },
    {
     "data": {
      "image/png": "[encoded data removed]",
      "text/plain": [
       "<Figure size 432x288 with 1 Axes>"
      ]
     },
     "metadata": {
      "needs_background": "light"
     },
     "output_type": "display_data"
    }
   ],
   "source": [
    "sample_x, sample_y = test_set[np.random.randint(len(test_set))] # a single example\n",
    "\n",
    "with torch.no_grad():\n",
    "    model.eval()\n",
    "    out, code = model(sample_x.unsqueeze(0))\n",
    "    \n",
    "plt.imshow(sample_x.squeeze(), cmap='binary')\n",
    "plt.title(sample_y)\n",
    "plt.show()\n",
    "plt.imshow(out.squeeze(), cmap='binary')\n",
    "plt.show()\n"
   ]
  },
  {
   "cell_type": "code",
   "execution_count": null,
   "metadata": {},
   "outputs": [],
   "source": []
  },
  {
   "cell_type": "code",
   "execution_count": null,
   "metadata": {},
   "outputs": [],
   "source": [
    "def decode_random(embedding_dim, model):\n",
    "    '''\n",
    "    Randomly sample a vector from the\n",
    "    embedding space, decode it, and\n",
    "    plot the output\n",
    "    '''\n",
    "    code_random = torch.randn((1,embedding_dim))\n",
    "    with torch.no_grad():\n",
    "        out = model.decode(code_random)\n",
    "    plt.imshow(out.squeeze(), cmap='binary')\n",
    "    plt.show()\n",
    "    \n",
    "    \n",
    "decode_random(10, model)"
   ]
  },
  {
   "cell_type": "code",
   "execution_count": null,
   "metadata": {},
   "outputs": [],
   "source": []
  },
  {
   "cell_type": "code",
   "execution_count": null,
   "metadata": {},
   "outputs": [],
   "source": []
  },
  {
   "cell_type": "code",
   "execution_count": null,
   "metadata": {},
   "outputs": [],
   "source": []
  }
 ],
 "metadata": {
  "kernelspec": {
   "display_name": "pytorch_kernel",
   "language": "python",
   "name": "pytorch_kernel"
  },
  "language_info": {
   "codemirror_mode": {
    "name": "ipython",
    "version": 3
   },
   "file_extension": ".py",
   "mimetype": "text/x-python",
   "name": "python",
   "nbconvert_exporter": "python",
   "pygments_lexer": "ipython3",
   "version": "3.8.5"
  }
 },
 "nbformat": 4,
 "nbformat_minor": 4
}
